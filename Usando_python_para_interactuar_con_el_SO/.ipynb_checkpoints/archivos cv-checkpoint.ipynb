{
 "cells": [
  {
   "cell_type": "code",
   "execution_count": 2,
   "metadata": {},
   "outputs": [],
   "source": [
    "import csv"
   ]
  },
  {
   "cell_type": "code",
   "execution_count": 71,
   "metadata": {},
   "outputs": [],
   "source": [
    "hosts = [[\"workstation.local\",\"192.168.0.1\"],[\"webserver.cloud  \",\"192,168,0,10\"]]\n",
    "with open('host.csv','w') as host_csv:\n",
    "    writer = csv.writer(host_csv)\n",
    "    writer.writerows(hosts)"
   ]
  },
  {
   "cell_type": "code",
   "execution_count": 72,
   "metadata": {},
   "outputs": [
    {
     "name": "stdout",
     "output_type": "stream",
     "text": [
      "workstation.local    192.168.0.1 \n",
      "webserver.cloud      192,168,0,10 \n"
     ]
    }
   ],
   "source": [
    "f = open(\"host.csv\")\n",
    "csv_f = csv.reader(f)\n",
    "\n",
    "for row in csv_f:   \n",
    "    a,b = row\n",
    "    print(\"{}    {} \".format(a,b))\n",
    "\n",
    "f.close()\n"
   ]
  },
  {
   "cell_type": "code",
   "execution_count": null,
   "metadata": {},
   "outputs": [],
   "source": []
  },
  {
   "cell_type": "code",
   "execution_count": null,
   "metadata": {},
   "outputs": [],
   "source": []
  }
 ],
 "metadata": {
  "kernelspec": {
   "display_name": "Python 3",
   "language": "python",
   "name": "python3"
  },
  "language_info": {
   "codemirror_mode": {
    "name": "ipython",
    "version": 3
   },
   "file_extension": ".py",
   "mimetype": "text/x-python",
   "name": "python",
   "nbconvert_exporter": "python",
   "pygments_lexer": "ipython3",
   "version": "3.8.3"
  }
 },
 "nbformat": 4,
 "nbformat_minor": 4
}
