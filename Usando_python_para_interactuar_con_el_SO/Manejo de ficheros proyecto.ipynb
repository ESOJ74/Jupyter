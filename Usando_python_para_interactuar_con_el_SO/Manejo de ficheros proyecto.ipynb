{
 "cells": [
  {
   "cell_type": "code",
   "execution_count": 13,
   "metadata": {},
   "outputs": [
    {
     "name": "stdout",
     "output_type": "stream",
     "text": [
      "Audrey Miller  audrey  Development\n",
      "Arden Garcia  ardeng  Sales\n",
      "Bailey Thomas  baileyt  Human Resources\n",
      "Blake Sousa  sousa  IT infrastructure\n",
      "Cameron Nguyen  nguyen  Marketing\n",
      "Charlie Grey  greyc  Development\n",
      "Chris Black  chrisb  User Experience Research\n",
      "Courtney Silva  silva  IT infrastructure\n",
      "Darcy Johnsonn  darcy  IT infrastructure\n",
      "Elliot Lamb  elliotl  Development\n",
      "Emery Halls  halls  Sales\n",
      "Flynn McMillan  flynn  Marketing\n",
      "Harley Klose  harley  Human Resources\n",
      "Jean May Coy  jeanm  Vendor operations\n",
      "Kay Stevens  kstev  Sales\n",
      "Lio Nelson  lion  User Experience Research\n",
      "Logan Tillas  tillas  Vendor operations\n",
      "Micah Lopes  micah  Development\n",
      "Sol Mansi  solm  IT infrastructure\n"
     ]
    }
   ],
   "source": [
    "import csv\n",
    "\n",
    "def read_employees():\n",
    "        with open('employees.csv') as file:\n",
    "                reader = csv.DictReader(file)\n",
    "                for row in reader:\n",
    "                    #print(row)\n",
    "                    print((\"{} {} {}\".format(row[\"Full Name\"],row[\" Username\"],row[\" Department\"])))\n",
    "read_employees()"
   ]
  },
  {
   "cell_type": "code",
   "execution_count": 39,
   "metadata": {},
   "outputs": [
    {
     "name": "stdout",
     "output_type": "stream",
     "text": [
      "[{'Full Name': 'Audrey Miller', 'Username': 'audrey', 'Department': 'Development'}, {'Full Name': 'Arden Garcia', 'Username': 'ardeng', 'Department': 'Sales'}, {'Full Name': 'Bailey Thomas', 'Username': 'baileyt', 'Department': 'Human Resources'}, {'Full Name': 'Blake Sousa', 'Username': 'sousa', 'Department': 'IT infrastructure'}, {'Full Name': 'Cameron Nguyen', 'Username': 'nguyen', 'Department': 'Marketing'}, {'Full Name': 'Charlie Grey', 'Username': 'greyc', 'Department': 'Development'}, {'Full Name': 'Chris Black', 'Username': 'chrisb', 'Department': 'User Experience Research'}, {'Full Name': 'Courtney Silva', 'Username': 'silva', 'Department': 'IT infrastructure'}, {'Full Name': 'Darcy Johnsonn', 'Username': 'darcy', 'Department': 'IT infrastructure'}, {'Full Name': 'Elliot Lamb', 'Username': 'elliotl', 'Department': 'Development'}, {'Full Name': 'Emery Halls', 'Username': 'halls', 'Department': 'Sales'}, {'Full Name': 'Flynn McMillan', 'Username': 'flynn', 'Department': 'Marketing'}, {'Full Name': 'Harley Klose', 'Username': 'harley', 'Department': 'Human Resources'}, {'Full Name': 'Jean May Coy', 'Username': 'jeanm', 'Department': 'Vendor operations'}, {'Full Name': 'Kay Stevens', 'Username': 'kstev', 'Department': 'Sales'}, {'Full Name': 'Lio Nelson', 'Username': 'lion', 'Department': 'User Experience Research'}, {'Full Name': 'Logan Tillas', 'Username': 'tillas', 'Department': 'Vendor operations'}, {'Full Name': 'Micah Lopes', 'Username': 'micah', 'Department': 'Development'}, {'Full Name': 'Sol Mansi', 'Username': 'solm', 'Department': 'IT infrastructure'}]\n"
     ]
    }
   ],
   "source": [
    "def read_employees(csv_file_location):\n",
    "    csv.register_dialect('empDialect', skipinitialspace=True, strict=True)\n",
    "    employee_file = csv.DictReader(open(csv_file_location), dialect = 'empDialect')    \n",
    "    employee_list = []\n",
    "    for data in employee_file:\n",
    "        employee_list.append(data)    \n",
    "    return employee_list\n",
    "\n",
    "employee_list = read_employees('employees.csv')\n",
    "print(employee_list)"
   ]
  },
  {
   "cell_type": "code",
   "execution_count": null,
   "metadata": {
    "scrolled": true
   },
   "outputs": [],
   "source": []
  },
  {
   "cell_type": "code",
   "execution_count": 28,
   "metadata": {},
   "outputs": [
    {
     "name": "stdout",
     "output_type": "stream",
     "text": [
      "{'User Experience Research': 2, 'Development': 4, 'Sales': 3, 'Vendor operations': 2, 'Marketing': 2, 'IT infrastructure': 4, 'Human Resources': 2}\n"
     ]
    }
   ],
   "source": [
    "def process_data(employee_list):\n",
    "    department_list = []\n",
    "    for employee_data in employee_list:\n",
    "        department_list.append(employee_data['Department'])\n",
    "    department_data = {}\n",
    "    for department_name in set(department_list):\n",
    "        department_data[department_name] = department_list.count(department_name)\n",
    "    return department_data\n",
    "\n",
    "dictionary = process_data(employee_list)\n",
    "print(dictionary)"
   ]
  },
  {
   "cell_type": "code",
   "execution_count": 35,
   "metadata": {},
   "outputs": [
    {
     "name": "stdout",
     "output_type": "stream",
     "text": [
      "ls\n",
      "'archivos cv.ipynb'   host1.csv\t\t\t\t   modulo_os.ipynb\n",
      " Contacts.csv\t      host.csv\t\t\t\t   report.txt\n",
      " employees.csv\t     'Manejo de ficheros proyecto.ipynb'\n",
      "\n",
      " cat\n",
      "Development:4\n",
      "Human Resources:2\n",
      "IT infrastructure:4\n",
      "Marketing:2\n",
      "Sales:3\n",
      "User Experience Research:2\n",
      "Vendor operations:2\n"
     ]
    }
   ],
   "source": [
    "def write_report(dictionary, report_file):\n",
    "      with open(report_file, \"w+\") as f:\n",
    "          for k in sorted(dictionary):\n",
    "              f.write(str(k)+':'+str(dictionary[k])+'\\n')\n",
    "          f.close()\n",
    "\n",
    "write_report(dictionary, 'report.txt')\n",
    "\n",
    "print (\"ls\")\n",
    "!ls\n",
    "print (\"\\n cat\")\n",
    "!cat report.txt"
   ]
  },
  {
   "cell_type": "code",
   "execution_count": null,
   "metadata": {},
   "outputs": [],
   "source": []
  }
 ],
 "metadata": {
  "kernelspec": {
   "display_name": "Python 3",
   "language": "python",
   "name": "python3"
  },
  "language_info": {
   "codemirror_mode": {
    "name": "ipython",
    "version": 3
   },
   "file_extension": ".py",
   "mimetype": "text/x-python",
   "name": "python",
   "nbconvert_exporter": "python",
   "pygments_lexer": "ipython3",
   "version": "3.8.3"
  }
 },
 "nbformat": 4,
 "nbformat_minor": 4
}
