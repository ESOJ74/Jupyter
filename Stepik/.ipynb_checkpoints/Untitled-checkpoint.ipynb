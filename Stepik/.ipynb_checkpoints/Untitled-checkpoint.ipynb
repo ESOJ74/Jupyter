{
 "cells": [
  {
   "cell_type": "markdown",
   "metadata": {},
   "source": [
    "##Desafio 1"
   ]
  },
  {
   "cell_type": "code",
   "execution_count": 141,
   "metadata": {},
   "outputs": [],
   "source": [
    "def PatternCount(Text, Pattern):\n",
    "        count = 0\n",
    "        rango = len(Text) \n",
    "        for i in range (len(Text)):\n",
    "            if Text[i:i+len(Pattern)] == Pattern:\n",
    "                count = count + 1\n",
    "        return count"
   ]
  },
  {
   "cell_type": "code",
   "execution_count": 166,
   "metadata": {},
   "outputs": [
    {
     "data": {
      "text/plain": [
       "26"
      ]
     },
     "execution_count": 166,
     "metadata": {},
     "output_type": "execute_result"
    }
   ],
   "source": [
    "#La segunda línea del archivo es el patron,por lo que hay que retar 1 al reultado\"\n",
    "\n",
    "f = open ('dataset_2_7 .txt')\n",
    "PatternCount(f.read(),\"AGAAAATAG\")"
   ]
  },
  {
   "cell_type": "markdown",
   "metadata": {},
   "source": [
    "##Desafio2"
   ]
  },
  {
   "cell_type": "code",
   "execution_count": 179,
   "metadata": {},
   "outputs": [],
   "source": [
    "import array\n",
    "\n",
    "def FrequentWords(Text, k):\n",
    "    FrequentPatterns = set([])\n",
    "    Count = array.array('i', range(len(Text)))    \n",
    "    for i in range (len(Text)):        \n",
    "        Pattern = Text[i:i+k]\n",
    "        Count[i] = PatternCount(Text,Pattern)  \n",
    "        for i in range (len(Count)):            \n",
    "            if Count[i] == max(Count):\n",
    "                FrequentPatterns.add(Text[i:i+k])      \n",
    "    return FrequentPatterns  "
   ]
  },
  {
   "cell_type": "code",
   "execution_count": 180,
   "metadata": {},
   "outputs": [],
   "source": [
    "f = open ('dataset_2_10.txt')\n",
    "FrequentWords(f.read(),12)\n",
    "while g:\n",
    "    print(g.pop())\n"
   ]
  },
  {
   "cell_type": "code",
   "execution_count": null,
   "metadata": {},
   "outputs": [],
   "source": []
  },
  {
   "cell_type": "code",
   "execution_count": null,
   "metadata": {},
   "outputs": [],
   "source": []
  }
 ],
 "metadata": {
  "kernelspec": {
   "display_name": "Python 3",
   "language": "python",
   "name": "python3"
  },
  "language_info": {
   "codemirror_mode": {
    "name": "ipython",
    "version": 3
   },
   "file_extension": ".py",
   "mimetype": "text/x-python",
   "name": "python",
   "nbconvert_exporter": "python",
   "pygments_lexer": "ipython3",
   "version": "3.8.3"
  }
 },
 "nbformat": 4,
 "nbformat_minor": 4
}
