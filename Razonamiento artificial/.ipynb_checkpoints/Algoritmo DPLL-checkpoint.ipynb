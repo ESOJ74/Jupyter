{
 "cells": [
  {
   "cell_type": "markdown",
   "metadata": {},
   "source": [
    "# Algoritmo DPLL"
   ]
  },
  {
   "cell_type": "markdown",
   "metadata": {},
   "source": [
    "El algoritmo DPLL es un algoritmo de descenso recursivo para determinar la satisfactibilidad de una expresión booleana. Aquí te presentaremos algunas clases de Python para que las utilices en tu implementación. Es importante que utilices estas clases para que no tengas problemas al someter tu tarea de programación."
   ]
  },
  {
   "cell_type": "markdown",
   "metadata": {},
   "source": [
    "## Literales"
   ]
  },
  {
   "cell_type": "markdown",
   "metadata": {},
   "source": [
    "Una literal es una variable proposicional afirmada o negada. La siguiente es una clase de Python que representa una literal. El constructor recibe el nombre de una variable como primer argumento y si esta es afirmada (positive = True) o negada (positive = False).\n",
    "\n",
    "Las literales negadas se representan como precedidas por una tilde (~)."
   ]
  },
  {
   "cell_type": "code",
   "execution_count": 1,
   "metadata": {},
   "outputs": [],
   "source": [
    "import re\n",
    "class Literal:\n",
    "    \n",
    "    # regular expression for a valid variable name\n",
    "    ID_REGEXP = re.compile(r\"^[^\\d\\W]\\w*\\Z\", re.UNICODE)\n",
    "    \n",
    "    \"\"\"\n",
    "    Propositional sentence tha is a variable or a negated variable\n",
    "    \"\"\"\n",
    "    \n",
    "    def __init__(self,variable,positive=True):\n",
    "        \"\"\"\n",
    "        Creates the literal for the given variable\n",
    "        :param variable: the variable of the literal\n",
    "        :param positive: positive literal if True, negative literal if false\n",
    "\n",
    "        \"\"\"\n",
    "        if re.match(Literal.ID_REGEXP,variable):\n",
    "            self.variable = variable\n",
    "        else:\n",
    "            raise SyntaxError(\"Invalid variable name: '\"+variable+\"'\")\n",
    "        self.positive = positive\n",
    "        \n",
    "    @staticmethod\n",
    "    def parse(s):\n",
    "        s = s.replace(\" \",\"\")\n",
    "        positive = not s.startswith(\"~\")\n",
    "        return Literal(s if positive else s[1:],positive)\n",
    "\n",
    "    def __repr__(self):\n",
    "        return self.__str__()\n",
    "    \n",
    "    def __str__(self):\n",
    "        return (\"\" if self.positive else \"~\")+self.variable\n",
    "        \n",
    "    def __hash__(self):\n",
    "        return hash(self.__str__())\n",
    "    \n",
    "    def __eq__(self,other):\n",
    "        return self.__str__()==other.__str__()\n",
    "    \n",
    "    def __invert__(self):\n",
    "        return Literal(self.variable,not self.positive)"
   ]
  },
  {
   "cell_type": "markdown",
   "metadata": {},
   "source": [
    "Ejemplo para crear las literales  L1=A  y  L2=¬B"
   ]
  },
  {
   "cell_type": "code",
   "execution_count": 2,
   "metadata": {},
   "outputs": [
    {
     "name": "stdout",
     "output_type": "stream",
     "text": [
      "A ~B C ~C\n"
     ]
    }
   ],
   "source": [
    "l1 = Literal(\"A\")\n",
    "l2 = Literal(\"B\",False)\n",
    "l3 = Literal(\"C\")\n",
    "l4 = ~l3\n",
    "print(l1,l2,l3,l4)"
   ]
  },
  {
   "cell_type": "markdown",
   "metadata": {},
   "source": [
    "## Cláusulas"
   ]
  },
  {
   "cell_type": "markdown",
   "metadata": {},
   "source": [
    "Una cláusula es una disyunción de literales. La siguiente es una clase en Python para representar una cláusula. El constructor recibe como primer argumento las literales que forman parte de la cláusula. Un segundo argumento del constructor indica cuando la representación de dichas literales es usando un conjunto que admite hashing."
   ]
  },
  {
   "cell_type": "code",
   "execution_count": 3,
   "metadata": {},
   "outputs": [],
   "source": [
    "class Clause:\n",
    "    \"\"\"\n",
    "    A propositional clause\n",
    "    This class keeps a singleton pattern of the clause with frozen hash\n",
    "    so that any simplification can be propagated to sets and dictionaries\n",
    "    in a single operation\n",
    "    \"\"\"\n",
    "    \n",
    "    def __init__(self, literals=None,frozen_hash=True):\n",
    "        \"\"\"\n",
    "        cretates the clause with the provided set of literals\n",
    "        :param literals: the set of literals\n",
    "        :param frozen_hash: if true the hash is not based on content\n",
    "        \"\"\"\n",
    "        self.frozen_hash = frozen_hash\n",
    "        if literals:\n",
    "            self.literals = frozenset(literals) if frozen_hash else literals\n",
    "        else:\n",
    "            self.literals = set()\n",
    "        \n",
    "    def __hash__(self):\n",
    "        \"\"\"\n",
    "        the hash number is the memory location when the flag\n",
    "        frozen_hash is True, otherwise the hash is the same as the \n",
    "        hash of the internal frozenset containing the literals\n",
    "        :returns: the hash number of the clause\n",
    "        \"\"\"\n",
    "        return id(self) if self.frozen_hash else hash(self.literals)\n",
    "    \n",
    "    def __eq__(self,other):\n",
    "        \"\"\"\n",
    "        Equality between different instances of the same clause is only checked\n",
    "        when frozen_hash is False. If frozen_hash is True, the method will\n",
    "        return True, only for the same instance of the class\n",
    "        \"\"\"\n",
    "        if self.__hash__()==hash(other):\n",
    "            if self.frozen_hash:\n",
    "                return True\n",
    "            else:\n",
    "                return self.literals == other.literals\n",
    "        else:\n",
    "            return False\n",
    "    \n",
    "    def __iadd__(self,literal):\n",
    "        \"\"\"\n",
    "        adds the literal to the clause\n",
    "        :param literal: the literal to add\n",
    "        \"\"\"\n",
    "        if isinstance(literal,Literal):\n",
    "            self.literals = self.literals.union({literal})\n",
    "            return self\n",
    "        else:\n",
    "            raise TypeError(\"An argument of type Literal was expected\")\n",
    "            \n",
    "    def __add__(self,literal):\n",
    "        \"\"\"\n",
    "        adds the literal to the clause\n",
    "        :param literal: the literal to add\n",
    "        \"\"\"\n",
    "        if isinstance(literal,Literal):\n",
    "            return Clause(self.literals.union({literal}),self.frozen_hash)\n",
    "        else:\n",
    "            raise TypeError(\"An argument of type Literal was expected\")\n",
    "            \n",
    "    def __isub__(self,literal):\n",
    "        \"\"\"\n",
    "        deletes a literal from the clause\n",
    "        :param literal: the literal to substract\n",
    "        \"\"\"\n",
    "        if isinstance(literal, Literal):\n",
    "            self.literals = self.literals.difference({literal})\n",
    "            return self\n",
    "        else:\n",
    "            raise TypeError(\"A literal of type string was expected\")\n",
    "\n",
    "    def __sub__(self,literal):\n",
    "        \"\"\"\n",
    "        deletes a literal from the clause\n",
    "        :param literal: the literal to substract\n",
    "        \"\"\"\n",
    "        if isinstance(literal, Literal):\n",
    "            return Clause(self.literals.difference({literal}),self.frozen_hash)\n",
    "        else:\n",
    "            raise TypeError(\"A literal of type string was expected\")\n",
    "        \n",
    "    def __str__(self):\n",
    "        return \"( \"+\" | \".join(map(str,self.literals))+\" )\"\n",
    "    \n",
    "    def __repr__(self):\n",
    "        return self.__str__()\n",
    "    \n",
    "    def __iter__(self):\n",
    "        return (i for i in self.literals)\n",
    "    \n",
    "    def __len__(self):\n",
    "        return len(self.literals)\n",
    "    \n",
    "    def copy(self):\n",
    "        return Clause(self.literals.copy(),self.frozen_hash)"
   ]
  },
  {
   "cell_type": "markdown",
   "metadata": {},
   "source": [
    "Ejemplo creamos una cláusula $c_1$ formada por las literales $l_1$ y $l_2$"
   ]
  },
  {
   "cell_type": "code",
   "execution_count": 4,
   "metadata": {},
   "outputs": [
    {
     "name": "stdout",
     "output_type": "stream",
     "text": [
      "( ~B | A )\n"
     ]
    }
   ],
   "source": [
    "c1 = Clause({l1,l2})\n",
    "print(c1)"
   ]
  },
  {
   "cell_type": "markdown",
   "metadata": {},
   "source": [
    "## Fórmula en Forma Normal Conjuntiva"
   ]
  },
  {
   "cell_type": "markdown",
   "metadata": {},
   "source": [
    "Una formula en Forma Normal Conjuntiva (FNC) es una conjunción de literales.\n",
    "Toda fórmula proposicional admite llevarse a su FNC.\n",
    "\n",
    "A continuación te proporcionamos una clase para representar fórmulas en FNC.\n",
    "En el constructor, el primer argumento recibe la fórmula en una cadena.\n",
    "\n",
    "Para definir una fórmula:\n",
    "El símbolo de la disyunción es una barra vertical (|).\n",
    "El símbolo de la conjunción es el símbolo et (&)."
   ]
  },
  {
   "cell_type": "code",
   "execution_count": 5,
   "metadata": {},
   "outputs": [],
   "source": [
    "import logging as log\n",
    "class FormulaCNF:\n",
    "    \"\"\"\n",
    "    Formula in Conjunctive Normal Form\n",
    "    :param formula: CNF formula (string to parse)\n",
    "    example: '(A|!B)&(!A|B|C)'\n",
    "    \"\"\"\n",
    "    def __init__(self,formula=None,assignment=None):\n",
    "        #removes all white spaces\n",
    "        if formula:\n",
    "            formula = ''.join(formula.split())\n",
    "            (self.variables,self.clauses) = self.parse(formula)\n",
    "            self.build_dicts()  \n",
    "            if assignment:\n",
    "                self.assignment = assignment.copy()\n",
    "            else:\n",
    "                self.assignment = set()\n",
    "            \n",
    "            if log.getLogger().isEnabledFor(log.DEBUG):\n",
    "                log.debug(self.string_internals())\n",
    "        else:\n",
    "            self.clauses = set()\n",
    "            self.assignment = set()\n",
    "                \n",
    "    def __getitem__(self,literal):\n",
    "        \"\"\"\n",
    "        short notation for the simplify method\n",
    "        :returns: the simplified formula resulting from assuming the literal\n",
    "        is true\n",
    "        \"\"\"\n",
    "        return self.simplify(literal)\n",
    "            \n",
    "    def empty_sentence(self):\n",
    "        \"\"\"\n",
    "        :returns: true if the formula has no clauses\n",
    "        \"\"\"\n",
    "        return not self.clauses\n",
    "    \n",
    "    def empty_clause(self):\n",
    "        \"\"\"\n",
    "        :returns: true if there is an empty clause\n",
    "        \"\"\"\n",
    "        return 0 in self.n_to_c\n",
    "    \n",
    "    def get_unit_clause_literal(self):\n",
    "        \"\"\"\n",
    "        Gets a unit clause if there is one, None otherwise\n",
    "        \"\"\"\n",
    "        clause = next(iter(self.n_to_c[1])) \\\n",
    "        if 1 in self.n_to_c else {}\n",
    "        return next(iter(clause)) if clause else None\n",
    "\n",
    "    def get_pure_literal(self):\n",
    "        \"\"\"\n",
    "        Gest a pure literal\n",
    "        \"\"\"\n",
    "        return next(iter(self.P)) if self.P else None\n",
    "    \n",
    "    def get_variable_literal(self):\n",
    "        \"\"\"\n",
    "        Obtiene una variable de la formula\n",
    "        \"\"\"\n",
    "        return Literal(next(iter(self.variables))) if self.variables else None\n",
    "\n",
    "    def simplify(self,literal):\n",
    "        \"\"\"\n",
    "        Simplifies the current sentence assming the provided literal\n",
    "        :param literal: the literal to assume as true\n",
    "        \"\"\"\n",
    "        log.debug(\"simplifying literal: \"+str(literal))\n",
    "        if not literal:\n",
    "            raise ValueError(\n",
    "                    \"Invalid literal provided as argument: \"+ str(literal))\n",
    "        \n",
    "        # stores the assignment\n",
    "        self.assignment.add(literal)\n",
    "        # deletes the variable of the literal\n",
    "        self.variables = self.variables - {literal.variable}\n",
    "        # updates the list of literals\n",
    "        self.L = self.L -{literal}\n",
    "        # updates the list of pure literals\n",
    "        if self.isPureLiteral(literal):\n",
    "            self.P = self.P - {literal}\n",
    "        # deals with the clauses to delete\n",
    "        if literal in self.l_to_c:\n",
    "            for clause in self.l_to_c[literal].copy():\n",
    "                self.remove_clause(clause)\n",
    "                #TODO remover las cláusulas de otras entradas en l_to_c\n",
    "                # update data structures for other literals\n",
    "                for l in clause.copy():\n",
    "                    self.decrease_literal_count(l)\n",
    "                    self.del_from_dictionary_of_sets(\n",
    "                            self.l_to_c,l,clause,True)\n",
    "            #removes the entry from dicionary literal to clauses\n",
    "            #del self.l_to_c[literal]\n",
    "            \n",
    "        # deals with the literals to delete negated literal\n",
    "        neg_literal = ~literal \n",
    "        # updates list of literals\n",
    "        self.L = self.L - {neg_literal}\n",
    "        # deletes all negated literals from clauses\n",
    "        if neg_literal in self.l_to_c:\n",
    "            for clause in self.l_to_c[neg_literal]:\n",
    "                self.remove_literal_from_clause(neg_literal,clause)\n",
    "        # delete entry for negated literal from dictionary literal to clauses\n",
    "        if neg_literal in self.l_to_c:\n",
    "            del self.l_to_c[neg_literal]\n",
    "        # updates list of negated literals\n",
    "        if self.isPureLiteral(neg_literal):\n",
    "            self.P = self.P - {neg_literal}\n",
    "\n",
    "        log.debug(\"simplified formula:\")\n",
    "        if log.getLogger().isEnabledFor(log.DEBUG):\n",
    "            log.debug(self.string_internals())\n",
    "        return self\n",
    "    \n",
    "    def remove_clause(self,clause):\n",
    "        \"\"\"\n",
    "        Removes the clause from data structures\n",
    "        :parama clause: the clause to delete\n",
    "        \"\"\"\n",
    "        # deletes clause from inverse map counts\n",
    "        self.clauses.remove(clause)\n",
    "        n = len(clause)\n",
    "        self.del_from_dictionary_of_sets(self.n_to_c,n,clause,True)\n",
    "    \n",
    "    def remove_literal_from_clause(self,literal,clause):\n",
    "        # frozen_hash allows for unique clause \n",
    "        # all clauses are updated (they are the same clause) \n",
    "        m = len(clause)\n",
    "        # remove clause from map of counts to clauses\n",
    "        self.del_from_dictionary_of_sets(self.n_to_c,m,clause,True)\n",
    "        # obtain simplified clause\n",
    "        clause -= literal\n",
    "        # update map of count to clauses\n",
    "        self.add_to_dictionary_of_sets(self.n_to_c,m-1,clause)\n",
    "        # update other counts related to the literal\n",
    "        self.decrease_literal_count(literal)\n",
    "        \n",
    "                \n",
    "    def decrease_literal_count(self,literal):\n",
    "        # decrease number to literal counts\n",
    "        # delete literal from previous count\n",
    "        n = self.l_to_n[literal]\n",
    "        self.del_from_dictionary_of_sets(self.n_to_l,n,literal,True)\n",
    "        # update the literal count if it is not zero\n",
    "        self.add_to_dictionary_of_sets(self.n_to_l,n-1,literal)\n",
    "        \n",
    "        # update counts for the literal\n",
    "        if literal in self.l_to_n:\n",
    "            self.l_to_n[literal] -= 1\n",
    "        else:\n",
    "            raise ValueError(\"Inconsistent counts for literal: \"+str(literal))\n",
    "            \n",
    "    def isPureLiteral(self,literal):\n",
    "        \"\"\"\n",
    "        :returns: true if the literal is pure\n",
    "        \"\"\"\n",
    "        return literal in self.P\n",
    "    \n",
    "        \n",
    "    def parse(self,formula):\n",
    "        \"\"\"\n",
    "        Parses the CNF formula string\n",
    "        \"\"\"\n",
    "        variables = set()\n",
    "        clauses = set()\n",
    "        clstr = re.findall(\"[^&]+\",formula)\n",
    "        for c in clstr:\n",
    "            literals = re.findall(\"[^\\(\\)\\|]+\",c)\n",
    "            clause = Clause()\n",
    "            for l in literals:\n",
    "                literal = Literal.parse(l)\n",
    "                variables.add(literal.variable)\n",
    "                clause += literal\n",
    "            clauses.add(clause)\n",
    "        return (variables,clauses)\n",
    "    \n",
    "    \n",
    "    def build_dicts(self):\n",
    "        \"\"\"\n",
    "        Builds dictionaries for efficient access\n",
    "        to clauses and literals\n",
    "        l_to_c: dictionary, keys are literals, values are clauses\n",
    "        n_to_c: dictionary, keys are sizes, values are clauses\n",
    "        l_to_n: dictionary, keys are literals, values are counts\n",
    "        n_to_c: dictionary, keys are counts, values are clauses\n",
    "        L: set, all literals in the formula\n",
    "        P: set, all pure literals in the formula\n",
    "        \"\"\"\n",
    "        # W gives fast access to clauses by literals\n",
    "        self.l_to_c = {}\n",
    "        # n gives fast access to clauses by size\n",
    "        self.n_to_c = {}\n",
    "        # literal to counts\n",
    "        self.l_to_n = {}\n",
    "        # counts to literals\n",
    "        self.n_to_l = {}\n",
    "        \n",
    "        for c in self.clauses:\n",
    "            # build dictionary indexed by size\n",
    "            self.add_to_dictionary_of_sets(self.n_to_c,len(c),c)\n",
    "            for l in c:\n",
    "                #builds dictionary indexed by literal\n",
    "                self.add_to_dictionary_of_sets(self.l_to_c,l,c)\n",
    "                #compute frecuency of literals\n",
    "                self.l_to_n[l] = self.l_to_n[l] + 1 if l in self.l_to_n else 1\n",
    "                \n",
    "        #reverse literal counts\n",
    "        self.L = set()\n",
    "        for k,v in self.l_to_n.items():\n",
    "            self.add_to_dictionary_of_sets(self.n_to_l,v,k)\n",
    "            self.L.add(k)\n",
    "        self.P = {v for v in self.L if ~v not in self.L}\n",
    "    \n",
    "    def add_to_dictionary_of_sets(self,d,k,v):\n",
    "        \"\"\"\n",
    "        Adds a value to a dictionary of sets\n",
    "        :param d: the dictionary\n",
    "        :param k: the key\n",
    "        :param v: the value to add\n",
    "        :param by_len: True if the key is the length of the set to add\n",
    "        \"\"\"\n",
    "        singleton = {v}\n",
    "        d[k] = d[k].union(singleton) if k in d else singleton\n",
    "        \n",
    "    def del_from_dictionary_of_sets(self,d,k,m,del_key):\n",
    "        \"\"\"\n",
    "        Deletes a set member from a dictionary of sets\n",
    "        :param d: the dictionary\n",
    "        :param k: the key\n",
    "        :parma m: the member of the set to delete\n",
    "        :del_key: if this flag is True the entry is removed when set is empty\n",
    "        \"\"\"\n",
    "        # removes with set difference\n",
    "        d[k] = d[k] - {m}\n",
    "        if del_key and not d[k]:\n",
    "            del d[k]\n",
    "    \n",
    "    def copy(self):\n",
    "        \"\"\"\n",
    "        Creates a shallow copy of the CNF formula\n",
    "        \"\"\"\n",
    "        log.debug(\"Creating a copy of the current CNF formula\")\n",
    "        formula = FormulaCNF(str(self),self.assignment)\n",
    "        return formula\n",
    "    \n",
    "    def string_internals(self):\n",
    "        return (\"clauses:\"+str(self.clauses)+\"\\n\"+\n",
    "        \"variables:\"+str(self.variables)+\"\\n\"+\n",
    "        \"assignment:\"+str(self.assignment)+\"\\n\"+\n",
    "        \"l_to_c:\"+str(self.l_to_c)+\"\\n\"+\n",
    "        \"n_to_c:\"+str(self.n_to_c)+\"\\n\"+\n",
    "        \"l_to_n:\"+str(self.l_to_n)+\"\\n\"+\n",
    "        \"n_to_l:\"+str(self.n_to_l)+\"\\n\"+\n",
    "        \"L:\"+str(self.L)+\"\\n\"+\n",
    "        \"P:\"+str(self.P))\n",
    "    \n",
    "    def __str__(self):\n",
    "        return \" & \".join(map(str,self.clauses))\n",
    "    \n",
    "    def __repr__(self):\n",
    "        return self.__str__()"
   ]
  },
  {
   "cell_type": "markdown",
   "metadata": {},
   "source": [
    "ejemplo de fórmula $\\phi$ en FNC."
   ]
  },
  {
   "cell_type": "code",
   "execution_count": 6,
   "metadata": {},
   "outputs": [
    {
     "name": "stdout",
     "output_type": "stream",
     "text": [
      "( ~B | A ) & ( ~B | ~C ) & ( C ) & ( ~A | C )\n"
     ]
    }
   ],
   "source": [
    "phi = FormulaCNF(\"(A|~B)&(~A|C)&(~B|~C)&(C)\")\n",
    "print(phi)"
   ]
  },
  {
   "cell_type": "markdown",
   "metadata": {},
   "source": [
    "Como se puede apreciar, la clase incorpora varios métodos.\n",
    "A continuación te mostramos como pueden utilizarse aquellos que te servirán para implementar DPLL."
   ]
  },
  {
   "cell_type": "code",
   "execution_count": 7,
   "metadata": {},
   "outputs": [
    {
     "data": {
      "text/plain": [
       "False"
      ]
     },
     "execution_count": 7,
     "metadata": {},
     "output_type": "execute_result"
    }
   ],
   "source": [
    "#verificar si la formula es vacía\n",
    "phi.empty_sentence()"
   ]
  },
  {
   "cell_type": "code",
   "execution_count": 8,
   "metadata": {},
   "outputs": [
    {
     "data": {
      "text/plain": [
       "False"
      ]
     },
     "execution_count": 8,
     "metadata": {},
     "output_type": "execute_result"
    }
   ],
   "source": [
    "#¿tiene la formula una cláusula vacía?\n",
    "phi.empty_clause()"
   ]
  },
  {
   "cell_type": "code",
   "execution_count": 9,
   "metadata": {},
   "outputs": [
    {
     "name": "stdout",
     "output_type": "stream",
     "text": [
      "C\n"
     ]
    }
   ],
   "source": [
    "#De existir una clúsula unitaria, obtiene la literal de la cláusula. Regresa None si no existe\n",
    "l = phi.get_unit_clause_literal()\n",
    "print(l)"
   ]
  },
  {
   "cell_type": "code",
   "execution_count": 10,
   "metadata": {},
   "outputs": [
    {
     "name": "stdout",
     "output_type": "stream",
     "text": [
      "~B\n"
     ]
    }
   ],
   "source": [
    "#Obtiene una literal pura de existir, None si no existe\n",
    "l = phi.get_pure_literal()\n",
    "print(l)"
   ]
  },
  {
   "cell_type": "code",
   "execution_count": 11,
   "metadata": {},
   "outputs": [
    {
     "name": "stdout",
     "output_type": "stream",
     "text": [
      "C\n"
     ]
    }
   ],
   "source": [
    "#Obtiene una literal con una variable arbitraria de la formula phi\n",
    "v = phi.get_variable_literal()\n",
    "print(v)"
   ]
  },
  {
   "cell_type": "code",
   "execution_count": 12,
   "metadata": {},
   "outputs": [
    {
     "name": "stdout",
     "output_type": "stream",
     "text": [
      "( A | ~B ) & ( ~A | C ) & ( ~B | ~C ) & ( C )\n"
     ]
    }
   ],
   "source": [
    "#Obtiene una copia de la formula\n",
    "psi = phi.copy()\n",
    "print(psi)"
   ]
  },
  {
   "cell_type": "code",
   "execution_count": 13,
   "metadata": {},
   "outputs": [
    {
     "name": "stdout",
     "output_type": "stream",
     "text": [
      "( C ) & ( ~A | C )\n"
     ]
    }
   ],
   "source": [
    "#Simplifica la formula asumiendo que la literal l es verdadera\n",
    "psi = phi[l]\n",
    "print(psi)"
   ]
  },
  {
   "cell_type": "code",
   "execution_count": 14,
   "metadata": {},
   "outputs": [
    {
     "name": "stdout",
     "output_type": "stream",
     "text": [
      "{~B}\n"
     ]
    }
   ],
   "source": [
    "#Obtiene las asignaciones aplicadas a una fórmula\n",
    "a = phi.assignment\n",
    "print(a)"
   ]
  },
  {
   "cell_type": "markdown",
   "metadata": {},
   "source": [
    "Para tu tarea de programación tenemos la clase DPLL.\n",
    "Hemos agregado el cascarón del método que deberás implementar.\n",
    "El método se denomina 'satisfiable' y recibe como entrada una fórmula en FNC.\n",
    "Hemos agregado la primera verificación que hace el algoritmo para que veas como debes entregar la respuesta.\n",
    "Se espera que el método regrese una tupla con dos elementos.\n",
    "El primer elemento de la tupla de respuesta es un valor booleano: verdadero si la fórmula es satisfactible, falso si no lo es.\n",
    "El segundo elemento de la tupla es una asignación en caso de que la fórmula sea satisfactible. En caso de que la fórmula no sea satisfactible deberás regresar None en el segundo elemento de la tupla, es decir la tupla deberá ser (False,None)."
   ]
  },
  {
   "cell_type": "code",
   "execution_count": 22,
   "metadata": {},
   "outputs": [],
   "source": [
    "class DPLL:\n",
    "    \"\"\"\n",
    "    DPLL algorithm\n",
    "    \"\"\"\n",
    "    @staticmethod\n",
    "    def satisfiable(phi,reporter=None):\n",
    "        \"\"\"\n",
    "        determines if phi is satisfiable\n",
    "        :param phi: a CNF formula\n",
    "        \"\"\"\n",
    "        if phi.empty_sentence():\n",
    "            return (True,phi.assignment)\n",
    "        else:\n",
    "            return (False,None)"
   ]
  },
  {
   "cell_type": "code",
   "execution_count": 23,
   "metadata": {},
   "outputs": [
    {
     "data": {
      "text/plain": [
       "(False, None)"
      ]
     },
     "execution_count": 23,
     "metadata": {},
     "output_type": "execute_result"
    }
   ],
   "source": [
    "phi_1 = FormulaCNF(\"(~x1 | x3 | x4) & (~x2 | x6 | x4) & (~x2 | ~x6 | ~x3) & (~x4 | ~x2) & (x2 | ~x3 | ~x1) & (x2 | x6 | x3) & (x2 | ~x6 | ~x4) & (x1 | x5) & (x1 | x6) & (~x6 | x3 | ~x5) & (x1 | ~x3 | ~x5)\")\n",
    "DPLL.satisfiable(phi_1)"
   ]
  },
  {
   "cell_type": "code",
   "execution_count": null,
   "metadata": {},
   "outputs": [],
   "source": []
  }
 ],
 "metadata": {
  "kernelspec": {
   "display_name": "Python 3",
   "language": "python",
   "name": "python3"
  },
  "language_info": {
   "codemirror_mode": {
    "name": "ipython",
    "version": 3
   },
   "file_extension": ".py",
   "mimetype": "text/x-python",
   "name": "python",
   "nbconvert_exporter": "python",
   "pygments_lexer": "ipython3",
   "version": "3.8.3"
  }
 },
 "nbformat": 4,
 "nbformat_minor": 4
}
