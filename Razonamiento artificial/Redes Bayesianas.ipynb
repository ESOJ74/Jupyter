{
 "cells": [
  {
   "cell_type": "markdown",
   "metadata": {},
   "source": [
    "# Redes Bayesianas"
   ]
  },
  {
   "cell_type": "markdown",
   "metadata": {},
   "source": [
    "Una red de Bayes (RB) es un modelo gráfico probabilístico que usa inferencia de Bayes y está basado en el concepto de independencia condicional.\n",
    "\n",
    "Una red de Bayes tiene un grafo acíclico dirigido donde los vertices pueden ser literales de una lógica proposicional.\n",
    "\n",
    "Aquí incluimos una clase de Python para representar literales. Esta clase será necesaria para la implementación de nuestra RB."
   ]
  },
  {
   "cell_type": "markdown",
   "metadata": {},
   "source": [
    "## Literales"
   ]
  },
  {
   "cell_type": "code",
   "execution_count": 2,
   "metadata": {},
   "outputs": [],
   "source": [
    "import re\n",
    "class Literal:\n",
    "    \n",
    "    def __init__(self,input=None,variable=None,value=None):\n",
    "        if input:\n",
    "            self.parse(input)\n",
    "        else:\n",
    "            self.variable = variable\n",
    "            self.value = value\n",
    "        \n",
    "    def parse(self,input):\n",
    "        c = re.match(\"([~]?)\\s*(\\w+)\",input)\n",
    "        if c is None:\n",
    "            raise Exception(\"cannot parse a literal from the input: \"+ input)\n",
    "        self.variable = c.group(2)\n",
    "        self.value = not c.group(1)\n",
    "    \n",
    "    def __str__(self):\n",
    "        return self.variable if self.value else \"~\"+self.variable\n",
    "    \n",
    "    def __repr__(self):\n",
    "        return self.__str__()\n",
    "    \n",
    "    def __hash__(self):\n",
    "        return hash(self.__str__())\n",
    "    \n",
    "    def __eq__(self,l):\n",
    "        return l.variable == self.variable and l.value == self.value\n",
    "    \n",
    "    def __ne__(self,other):\n",
    "        return not self.__eq__(other)\n",
    "        \n",
    "    def __lt__(self,other):\n",
    "        if self.variable == other.variable:\n",
    "            return self.value < other.value\n",
    "        return self.variable < other.variable"
   ]
  },
  {
   "cell_type": "markdown",
   "metadata": {},
   "source": [
    "Vamos a crear una literal $l = \\neg A$"
   ]
  },
  {
   "cell_type": "code",
   "execution_count": 3,
   "metadata": {},
   "outputs": [
    {
     "name": "stdout",
     "output_type": "stream",
     "text": [
      "~A\n"
     ]
    }
   ],
   "source": [
    "l = Literal(variable='A',value=False)\n",
    "print(l)"
   ]
  },
  {
   "cell_type": "markdown",
   "metadata": {},
   "source": [
    "La tilde (~) se utiliza como símbolo de la negación."
   ]
  },
  {
   "cell_type": "markdown",
   "metadata": {},
   "source": [
    "## Tabla de Probabilidad Condicional"
   ]
  },
  {
   "cell_type": "markdown",
   "metadata": {},
   "source": [
    "En una RB los vertices tienen asociados parámetros numéricos que representan probabilidades condicionales. Hemos definido una clase de Python que representa una tabla de parámetros. En el constructor indicamos la variable proposicional a la que se asocia la tabla y la tabla se especifica como una lista de tuplas. Cada tupla tiene dos valores, el primero es una cadena que contiene las literales de un renglón de la tabla separadas por coma. El segundo valor es la probabilidad correspondiente."
   ]
  },
  {
   "cell_type": "code",
   "execution_count": 4,
   "metadata": {},
   "outputs": [],
   "source": [
    "from itertools import product as cartesian\n",
    "from functools import reduce\n",
    "# Conditional probability table\n",
    "class CPT:\n",
    "    # initializes the condional probability table for the given variable\n",
    "    # table, a list of pairs (v,p)\n",
    "    # where v is a string with a comma separated list of literals\n",
    "    # and p the corresponding probability\n",
    "    # for example:\n",
    "    # [(\"~A,~B\",0.5),(\"~A,B\",0.8),(\"A,~B\",0.3),(\"A,B\",0.9)]\n",
    "    def __init__(self,variable,table):\n",
    "        self.variable = variable\n",
    "        #parse variables from first row of table\n",
    "        self.parents = CPT.parseVariables(table[0][0])\n",
    "        self.fillDictionary(table)\n",
    "        \n",
    "    # parses the variables from the first row of the table\n",
    "    @staticmethod\n",
    "    def parseVariables(s):\n",
    "        return set([l.variable for l in CPT.stringToLiteralList(s)])\n",
    "\n",
    "    # obtains all variations of the given variables\n",
    "    @staticmethod\n",
    "    def computeKeys(variables):\n",
    "        entries = []\n",
    "        if len(variables) == 1:\n",
    "            (v,)= variables\n",
    "            keys = [CPT.formatLiteral(Literal(variable=v,value=False)),\\\n",
    "                    CPT.formatLiteral(Literal(variable=v,value=True))] \n",
    "        else:            \n",
    "            for e in [CPT.flatten(i,[]) \\\n",
    "            for i in list(reduce(lambda x,y:cartesian(x,y), \\\n",
    "            [cartesian([v],[False,True]) for v in sorted(variables)]))]:\n",
    "                entries.append([Literal(variable=a[0],value=a[1]) for a in e])\n",
    "            keys = [reduce(lambda x,y: \\\n",
    "            CPT.formatLiteral(x)+','+CPT.formatLiteral(y),e) for e in entries]\n",
    "        return keys\n",
    "    \n",
    "    @staticmethod\n",
    "    def formatLiteral(l):\n",
    "        return str(l).rjust(len(str(l))+1) \\\n",
    "        if l.value else str(l).rjust(len(str(l)))\n",
    "        \n",
    "    # fills the conditional probability table\n",
    "    def fillDictionary(self,table):\n",
    "        self.table = {self.hashString(row[0]):row[1] for row in table}\n",
    "    \n",
    "    # converts the string to a list of literals\n",
    "    @staticmethod\n",
    "    def stringToLiteralList(s):\n",
    "        l=[] \n",
    "        # there are parents\n",
    "        if s:\n",
    "            l = [Literal(l) for l in s.split(\",\")]\n",
    "        return l\n",
    "    \n",
    "    # hashes the provided string (list of literals)\n",
    "    def hashString(self,s):\n",
    "        return hash(frozenset(self.stringToLiteralList(s)))\n",
    "    \n",
    "    # allows indexing of the table\n",
    "    def __getitem__(self,s):\n",
    "        return self.table[self.hashString(s)]\n",
    "    \n",
    "    # allows changing probabilities in the table\n",
    "    def __setitem__(self,s,p):\n",
    "            self.table[self.hashString(s)] = p\n",
    "            \n",
    "    def __repr__(self):\n",
    "        return self.__str__()\n",
    "    \n",
    "    # pretty printing of the conditional probability table\n",
    "    def __str__(self):\n",
    "        s = \"CPT for variable \"+self.variable+\"\\n\"\n",
    "        if self.parents:\n",
    "            for key in CPT.computeKeys(self.parents):\n",
    "                s += \"P(\"+self.variable+\"|\"+key+\") = \"\\\n",
    "                +str(\"%.4f\" % self[key]) + \"\\n\"\n",
    "        else:\n",
    "            s += \"P(\"+self.variable+ \") = \" + str(\"%.4f\" % self['']) + \"\\n\"\n",
    "        return s\n",
    "        \n",
    "    # flattens a nested tuple\n",
    "    @staticmethod\n",
    "    def flatten(x,l=[]):\n",
    "        if not isinstance(x[0],tuple):\n",
    "            l.extend([x])\n",
    "        else:\n",
    "            for i in x:\n",
    "                CPT.flatten(i,l)\n",
    "        return l"
   ]
  },
  {
   "cell_type": "markdown",
   "metadata": {},
   "source": [
    "En el siguiente ejemplo creamos una tabla de probabilidad condicional para la variable $B$.\n",
    "\n",
    "En este ejemplo tenemos:\n",
    "\n",
    "$\n",
    "\\begin{bmatrix}\n",
    "P(B \\mid \\phantom{\\neg}A) = 0.30\\\\\n",
    "P(B \\mid \\neg A) = 0.15\n",
    "\\end{bmatrix}\n",
    "$"
   ]
  },
  {
   "cell_type": "code",
   "execution_count": 5,
   "metadata": {},
   "outputs": [
    {
     "name": "stdout",
     "output_type": "stream",
     "text": [
      "CPT for variable B\n",
      "P(B|~A) = 0.1500\n",
      "P(B| A) = 0.3000\n",
      "\n"
     ]
    }
   ],
   "source": [
    "tabla = CPT(\n",
    "        'B',[('A',0.3),('~A',0.15)])\n",
    "print(tabla)"
   ]
  },
  {
   "cell_type": "markdown",
   "metadata": {},
   "source": [
    "## Red bayesiana"
   ]
  },
  {
   "cell_type": "markdown",
   "metadata": {},
   "source": [
    "La siguiente es una implementación en Python de la RB.\n",
    "\n",
    "Hemos dejado indicado donde debes agregar tu código para la tarea de programación."
   ]
  },
  {
   "cell_type": "code",
   "execution_count": 23,
   "metadata": {},
   "outputs": [],
   "source": [
    "class BayesianNetwork:\n",
    "    \n",
    "    #Initializes the Bayesian network\n",
    "    # cpts a dictionary with the conditional probability tables\n",
    "    # the dictionary is indexed by the vertex variable\n",
    "    def __init__(self,cpts=None):\n",
    "        if cpts is not None:\n",
    "            self.cpts = cpts\n",
    "            self.variables = set(cpts.keys())\n",
    "        else:\n",
    "            self.cpts = {}\n",
    "            self.variables = set()\n",
    "        \n",
    "    def setTable(self,table):\n",
    "        self.cpts[table.variable]=table\n",
    "        self.variables.add(table.variable)\n",
    "        \n",
    "    # computes the probability expressed in the given query\n",
    "    def query(self,q):\n",
    "        if \"|\" in q:\n",
    "            s = q.split(\"|\")\n",
    "            p = self.query(s[0]+\",\"+s[1])/self.query(s[1])\n",
    "        else:\n",
    "            #obtains all variables in the query\n",
    "            mentioned = CPT.parseVariables(q)\n",
    "            #obtains the missing variables\n",
    "            missing = set(self.variables).difference(mentioned)\n",
    "            if not missing:\n",
    "                p = self.atomic(q)\n",
    "            else:\n",
    "                p = self.nonatomic(q,missing)\n",
    "        return p\n",
    "\n",
    "    # computes the probability of an atomic event            \n",
    "    def atomic(self,q):\n",
    "        p = 1\n",
    "        q_literals = CPT.stringToLiteralList(q)\n",
    "        for v in q_literals:\n",
    "            s = \",\".join(\\\n",
    "            map(lambda x:str(x), filter(lambda x:x.variable \\\n",
    "            in self.cpts[v.variable].parents,q_literals)))\n",
    "            p *= self.cpts[v.variable][s] \\\n",
    "            if v.value else 1-self.cpts[v.variable][s]\n",
    "        return p\n",
    "    \n",
    "    # debes modificar este método para calcular la probabilidad\n",
    "    # de un evento no atómico\n",
    "    def nonatomic(self,q,missing):\n",
    "        p = 0\n",
    "        for key in CPT.computeKeys(missing):\n",
    "            # inserta tu código aquí, borra la palabra pass\n",
    "            # debes actualizar el valor de p aquí\n",
    "            conjuncion=q+','+key\n",
    "            p=p+self.atomic(conjuncion)            \n",
    "            pass\n",
    "        \n",
    "        return p\n",
    "    \n",
    "    def __str__(self):\n",
    "        s = ''\n",
    "        for v in self.variables:\n",
    "            s += str(self.cpts[v])+\"\\n\"\n",
    "        return s\n"
   ]
  },
  {
   "cell_type": "markdown",
   "metadata": {},
   "source": [
    "El método computeKeys de la tabla de probabilidad condicional recibe un conjunto de variables y te regresa todas las variaciones de literales posibles para las variables."
   ]
  },
  {
   "cell_type": "code",
   "execution_count": 24,
   "metadata": {},
   "outputs": [
    {
     "data": {
      "text/plain": [
       "['~A,~B', '~A, B', ' A,~B', ' A, B']"
      ]
     },
     "execution_count": 24,
     "metadata": {},
     "output_type": "execute_result"
    }
   ],
   "source": [
    "#ejemplo del uso del método computeKeys\n",
    "tabla.computeKeys({'A','B'})"
   ]
  },
  {
   "cell_type": "markdown",
   "metadata": {},
   "source": [
    "En tu tarea hemos puesto un ciclo for que itera sobre estas posibilidades.\n",
    "\n",
    "Nota que ya te hemos dado un método para calcular la probabilidad de un evento atómico."
   ]
  },
  {
   "cell_type": "markdown",
   "metadata": {},
   "source": [
    "## Tarea"
   ]
  },
  {
   "cell_type": "markdown",
   "metadata": {},
   "source": [
    "En la tarea te pediremos calcular algunas probabilidades del ejemplo del homicida en el tren.\n",
    "\n",
    "Comenzamos por crear la RB:"
   ]
  },
  {
   "cell_type": "code",
   "execution_count": 25,
   "metadata": {},
   "outputs": [
    {
     "name": "stdout",
     "output_type": "stream",
     "text": [
      "CPT for variable cuchillo\n",
      "P(cuchillo|~homicida) = 0.2500\n",
      "P(cuchillo| homicida) = 0.8500\n",
      "\n",
      "CPT for variable sangre\n",
      "P(sangre|~homicida) = 0.1000\n",
      "P(sangre| homicida) = 0.8000\n",
      "\n",
      "CPT for variable homicida\n",
      "P(homicida) = 0.0100\n",
      "\n",
      "\n"
     ]
    }
   ],
   "source": [
    "#define las probabilidades de transición de la red\n",
    "homicida_t= CPT(\n",
    "        'homicida',\n",
    "        [('',0.01)])\n",
    "sangre_t = CPT(\n",
    "        'sangre',[('homicida',0.8),('~homicida',0.1)])\n",
    "cuchillo_t = CPT(\n",
    "        'cuchillo',[('homicida',0.85),('~homicida',0.25)])\n",
    "\n",
    "#crea la red\n",
    "bn = BayesianNetwork({\n",
    "        'homicida':homicida_t,\n",
    "        'cuchillo':cuchillo_t,\n",
    "        'sangre':sangre_t})\n",
    "\n",
    "print(bn)\n"
   ]
  },
  {
   "cell_type": "markdown",
   "metadata": {},
   "source": [
    "El siguiente es un método que imprime el resultado de calcular algunas preguntas de probabilidad con la RB."
   ]
  },
  {
   "cell_type": "code",
   "execution_count": 26,
   "metadata": {},
   "outputs": [],
   "source": [
    "def tarea():\n",
    "    #perform queries\n",
    "    print(\"P(homicida) = \"+str(bn.query(\"homicida\")))\n",
    "    print(\"P(sangre) = \"+str(bn.query(\"sangre\")))\n",
    "    print(\"P(cuchillo) = \"+str(bn.query(\"cuchillo\")))\n",
    "    print(\"P(~cuchillo) = \"+str(bn.query(\"~cuchillo\")))\n",
    "    print(\"P(~cuchillo|homicida) = \"+str(bn.query(\"~cuchillo|homicida\")))\n",
    "    print(\"P(homicida|cuchillo,sangre) = \"+str(bn.query(\"homicida|cuchillo,sangre\")))"
   ]
  },
  {
   "cell_type": "markdown",
   "metadata": {},
   "source": [
    "Ejecuta el método tarea y copia el resultado en un archivo de texto que deberás subir como respuesta."
   ]
  },
  {
   "cell_type": "code",
   "execution_count": 27,
   "metadata": {},
   "outputs": [
    {
     "name": "stdout",
     "output_type": "stream",
     "text": [
      "P(homicida) = 0.01\n",
      "P(sangre) = 0.10700000000000001\n",
      "P(cuchillo) = 0.256\n",
      "P(~cuchillo) = 0.744\n",
      "P(~cuchillo|homicida) = 0.15000000000000002\n",
      "P(homicida|cuchillo,sangre) = 0.21553090332805072\n"
     ]
    }
   ],
   "source": [
    "# descomenta y ejecuta la siguiente línea\n",
    "tarea()"
   ]
  },
  {
   "cell_type": "code",
   "execution_count": null,
   "metadata": {},
   "outputs": [],
   "source": []
  }
 ],
 "metadata": {
  "kernelspec": {
   "display_name": "Python 3",
   "language": "python",
   "name": "python3"
  },
  "language_info": {
   "codemirror_mode": {
    "name": "ipython",
    "version": 3
   },
   "file_extension": ".py",
   "mimetype": "text/x-python",
   "name": "python",
   "nbconvert_exporter": "python",
   "pygments_lexer": "ipython3",
   "version": "3.8.3"
  }
 },
 "nbformat": 4,
 "nbformat_minor": 4
}
