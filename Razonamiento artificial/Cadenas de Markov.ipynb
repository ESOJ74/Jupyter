{
 "cells": [
  {
   "cell_type": "markdown",
   "metadata": {},
   "source": [
    "# Cadenas de Markov"
   ]
  },
  {
   "cell_type": "markdown",
   "metadata": {},
   "source": [
    "Una cadena de Markov (CM) es un tipo particular de proceso estocástico.\n",
    "Una CM tiene probabilidades de transición estacionarias, es decir, no dependen del tiempo.\n",
    "Las probabilidades del estado siguiente dependen únicamente del estado presente y no de los estados pasados.\n",
    "\n",
    "Esto permite que la CM se pueda representar de manera compacata con un grafo.\n",
    "Por ejemplo:\n",
    "\n",
    "![title](ejemplo2estados.png)\n",
    "\n",
    "En este caso la CM tiene dos estados.\n",
    "Los parámetros de las aristas son las probabilidades de transición de estado.\n",
    "\n",
    "Por ejemplo, en esta CM la probabilidad de transitar del estado 1 al estado 2 es de 0.7.\n",
    "\n",
    "Esto lo denotamos como $P(s^{t+1}{=}2 \\mid s^{t}{=}1) = 0.7$."
   ]
  },
  {
   "cell_type": "markdown",
   "metadata": {},
   "source": [
    "## Matrices y Cadenas de Markov "
   ]
  },
  {
   "cell_type": "markdown",
   "metadata": {},
   "source": [
    "Las probabilidades de transición de una cadena de Markov se pueden representar de manera matricial.\n",
    "\n",
    "En este caso la matrix de probabilidades de transición $T$ queda dada por:\n",
    "\n",
    "$T = \n",
    "\\begin{bmatrix}\n",
    "0.3&0.6\\\\\n",
    "0.7&0.4\n",
    "\\end{bmatrix}\n",
    "$\n",
    "\n",
    "En python podemos utilizar el paquete científico numpy. \n",
    "La manera de representar esta matriz en Python es como sigue:\n"
   ]
  },
  {
   "cell_type": "code",
   "execution_count": 20,
   "metadata": {},
   "outputs": [
    {
     "name": "stdout",
     "output_type": "stream",
     "text": [
      "[[0.3 0.6]\n",
      " [0.7 0.4]]\n"
     ]
    }
   ],
   "source": [
    "import numpy as np\n",
    "\n",
    "T = np.matrix([[0.3,0.6],[0.7,0.4]])\n",
    "\n",
    "print(T)"
   ]
  },
  {
   "cell_type": "markdown",
   "metadata": {},
   "source": [
    "La evolución de la distribución de probabilidad $x$ para los dos estados esta dada por la ecuación:\n",
    "\n",
    "$\n",
    "x = T x\n",
    "$\n",
    "\n",
    "Por ejemplo si sabemos con certeza que estamos en el estado 1 y esto se representa como:\n",
    "\n",
    "$\n",
    "x = \n",
    "\\begin{bmatrix}\n",
    "1\\\\\n",
    "0\n",
    "\\end{bmatrix}\n",
    "$\n",
    "\n",
    "Es decir la probabilidad de estar en el estado 1 es 1 y de estar en el estado 2 es 0.\n",
    "\n",
    "Si queremos saber como será la distribución de probabilidad para los estados en el tiempo siguiente hacemos:\n",
    "\n",
    "$x^{t+1} = \n",
    "\\begin{bmatrix}\n",
    "0.3&0.6\\\\\n",
    "0.7&0.4\n",
    "\\end{bmatrix}\n",
    "\\begin{bmatrix}\n",
    "1\\\\\n",
    "0\n",
    "\\end{bmatrix}\n",
    "=\n",
    "\\begin{bmatrix}\n",
    "0.3\\\\\n",
    "0.7\n",
    "\\end{bmatrix}\n",
    "$\n",
    "\n",
    "Es decir la probabilidad de estar en el estado 1 es 0.3 y de transitar al estado 2 es 0.7.\n",
    "\n",
    "\n",
    "Si queremos saber que pasará dos tiempos en el futuro, iteramos la ecuación:\n",
    "\n",
    "$x^{t+2} = \n",
    "\\begin{bmatrix}\n",
    "0.3&0.6\\\\\n",
    "0.7&0.4\n",
    "\\end{bmatrix}\n",
    "\\begin{bmatrix}\n",
    "0.3&0.6\\\\\n",
    "0.7&0.4\n",
    "\\end{bmatrix}\n",
    "\\begin{bmatrix}\n",
    "1\\\\\n",
    "0\n",
    "\\end{bmatrix}\n",
    "=\n",
    "\\begin{bmatrix}\n",
    "0.3&0.6\\\\\n",
    "0.7&0.4\n",
    "\\end{bmatrix}^2\n",
    "\\begin{bmatrix}\n",
    "1\\\\\n",
    "0\n",
    "\\end{bmatrix}\n",
    "$\n",
    "\n",
    "Con ayuda de numpy podemos calcular esta matriz:\n"
   ]
  },
  {
   "cell_type": "code",
   "execution_count": 21,
   "metadata": {},
   "outputs": [
    {
     "name": "stdout",
     "output_type": "stream",
     "text": [
      "x =\n",
      "[[1]\n",
      " [0]]\n",
      "x(t+1)=\n",
      "[[0.3]\n",
      " [0.7]]\n",
      "x(t+2)=\n",
      "[[0.51]\n",
      " [0.49]]\n"
     ]
    }
   ],
   "source": [
    "x = np.matrix([[1],[0]])\n",
    "print('x =\\n'+str(x))\n",
    "x_1 = np.matmul(T,x)\n",
    "print('x(t+1)=\\n'+str(x_1))\n",
    "x_2 = np.matmul(T,x_1)\n",
    "print('x(t+2)=\\n'+str(x_2))"
   ]
  },
  {
   "cell_type": "markdown",
   "metadata": {},
   "source": [
    "Para comprobar que esto es lo mismo que elevar la matriz  T  al cuadrado y multiplicar por  x  podemos recurrir a la función matrix_power de numpy."
   ]
  },
  {
   "cell_type": "code",
   "execution_count": 22,
   "metadata": {},
   "outputs": [
    {
     "name": "stdout",
     "output_type": "stream",
     "text": [
      "x(t+2)=\n",
      "[[0.51]\n",
      " [0.49]]\n"
     ]
    }
   ],
   "source": [
    "x_2 = np.matmul(np.linalg.matrix_power(T,2),x)\n",
    "print('x(t+2)=\\n'+str(x_2))"
   ]
  },
  {
   "cell_type": "markdown",
   "metadata": {},
   "source": [
    "Bajo ciertas condiciones, existe una distribución de probabilidad estacionaria sobre los estados. Esto significa que no importa cual se la distribución de probabilidad inicial, al iterar la ecuación la distribución converge a una distribución que no cambia.\n",
    "\n",
    "Por ejemplo definamos un método para encontrar la distribución de probabilidad al tiempo t dada una condición inicial  x :"
   ]
  },
  {
   "cell_type": "code",
   "execution_count": 23,
   "metadata": {},
   "outputs": [],
   "source": [
    "def calcula_dist(T,x_0,n):\n",
    "    x_n = np.matmul(np.linalg.matrix_power(T,n),x_0)\n",
    "    print('x(t+'+str(n)+')=\\n'+str(x_n))"
   ]
  },
  {
   "cell_type": "markdown",
   "metadata": {},
   "source": [
    "Usemos esta función para encontrar la distribución al tiempo 5:"
   ]
  },
  {
   "cell_type": "code",
   "execution_count": 24,
   "metadata": {},
   "outputs": [
    {
     "name": "stdout",
     "output_type": "stream",
     "text": [
      "x(t+5)=\n",
      "[[0.46023]\n",
      " [0.53977]]\n"
     ]
    }
   ],
   "source": [
    "x_5 = calcula_dist(T,x,5)"
   ]
  },
  {
   "cell_type": "markdown",
   "metadata": {},
   "source": [
    "Veamos como cambia la distribución con las primeras 10 iteraciones:"
   ]
  },
  {
   "cell_type": "code",
   "execution_count": 25,
   "metadata": {},
   "outputs": [
    {
     "name": "stdout",
     "output_type": "stream",
     "text": [
      "x(t+0)=\n",
      "[[1.]\n",
      " [0.]]\n",
      "x(t+1)=\n",
      "[[0.3]\n",
      " [0.7]]\n",
      "x(t+2)=\n",
      "[[0.51]\n",
      " [0.49]]\n",
      "x(t+3)=\n",
      "[[0.447]\n",
      " [0.553]]\n",
      "x(t+4)=\n",
      "[[0.4659]\n",
      " [0.5341]]\n",
      "x(t+5)=\n",
      "[[0.46023]\n",
      " [0.53977]]\n",
      "x(t+6)=\n",
      "[[0.461931]\n",
      " [0.538069]]\n",
      "x(t+7)=\n",
      "[[0.4614207]\n",
      " [0.5385793]]\n",
      "x(t+8)=\n",
      "[[0.46157379]\n",
      " [0.53842621]]\n",
      "x(t+9)=\n",
      "[[0.46152786]\n",
      " [0.53847214]]\n"
     ]
    }
   ],
   "source": [
    "for i in range(10):\n",
    "    calcula_dist(T,x,i)"
   ]
  },
  {
   "cell_type": "markdown",
   "metadata": {},
   "source": [
    "Observamos una rápida convergencia a los valores.\n",
    "\n",
    "¿Qué tanto tenemos que iterar la ecuación para encontrar la distribución?\n",
    "\n",
    "Esto puede resolverse más fácilmente si observamos que lo que queremos encontrar es $x^{\\text{*}}$ tal que:\n",
    "\n",
    "$x^{\\text{*}} = T x^{\\text{*}}$\n",
    "\n",
    "Esto es equivalente a resolver el problema de encontrar los vectores característicos de la matriz $T$.\n",
    "\n",
    "Los vectores característicos de una matriz son aquellos que no cambian de dirección cuando se aplica la transformación lineal $T$ (es decir cuando se multiplica por $T$).\n",
    "\n",
    "En numpy podemos encontrar esto usando *linalg.eig*"
   ]
  },
  {
   "cell_type": "code",
   "execution_count": 26,
   "metadata": {},
   "outputs": [
    {
     "name": "stdout",
     "output_type": "stream",
     "text": [
      "[-0.3  1. ]\n",
      "[[-0.70710678 -0.65079137]\n",
      " [ 0.70710678 -0.7592566 ]]\n"
     ]
    }
   ],
   "source": [
    "l,v = np.linalg.eig(T)\n",
    "print(l)\n",
    "print(v)"
   ]
  },
  {
   "cell_type": "markdown",
   "metadata": {},
   "source": [
    "Nos interesa el eigenvector que corresponde con el eigenvalor 1. En este caso el vector que esta como segunda columna en v. Lo extraemos y normalizamos:"
   ]
  },
  {
   "cell_type": "code",
   "execution_count": 27,
   "metadata": {},
   "outputs": [
    {
     "name": "stdout",
     "output_type": "stream",
     "text": [
      "[[0.46153846]\n",
      " [0.53846154]]\n"
     ]
    }
   ],
   "source": [
    "x_s = v[:,1] / sum(v[:,1])\n",
    "print(x_s)"
   ]
  },
  {
   "cell_type": "markdown",
   "metadata": {},
   "source": [
    "Considera la CM representada por el siguiente diagrama:\n",
    "\n",
    "\n",
    "\n",
    "![title](markovchain.png)\n",
    "\n",
    "En tu tarea tendras que encontrar la distribución de probabilidad estacionaria.\n",
    "\n",
    "Comienza identificando la matriz de probabilidades de transición $T$ correspondiente.\n",
    "\n",
    "Comprueba que obtienes lo mismo elevando $T$ a una potencia grande y calculando los vectores característicos de T."
   ]
  },
  {
   "cell_type": "code",
   "execution_count": 67,
   "metadata": {},
   "outputs": [
    {
     "name": "stdout",
     "output_type": "stream",
     "text": [
      "[[0.7 0.4 0.2]\n",
      " [0.1 0.4 0.2]\n",
      " [0.2 0.2 0.6]]\n",
      "x =\n",
      "[[0]\n",
      " [1]\n",
      " [0]]\n",
      "x(t+1)=\n",
      "[[0.4]\n",
      " [0.4]\n",
      " [0.2]]\n",
      "x(t+2)=\n",
      "[[0.48]\n",
      " [0.24]\n",
      " [0.28]]\n",
      "x(t+0)=\n",
      "[[0.]\n",
      " [1.]\n",
      " [0.]]\n",
      "x(t+1)=\n",
      "[[0.4]\n",
      " [0.4]\n",
      " [0.2]]\n",
      "x(t+2)=\n",
      "[[0.48]\n",
      " [0.24]\n",
      " [0.28]]\n",
      "x(t+3)=\n",
      "[[0.488]\n",
      " [0.2  ]\n",
      " [0.312]]\n",
      "x(t+4)=\n",
      "[[0.484 ]\n",
      " [0.1912]\n",
      " [0.3248]]\n",
      "x(t+5)=\n",
      "[[0.48024]\n",
      " [0.18984]\n",
      " [0.32992]]\n",
      "x(t+6)=\n",
      "[[0.478088]\n",
      " [0.189944]\n",
      " [0.331968]]\n",
      "x(t+7)=\n",
      "[[0.4770328]\n",
      " [0.19018  ]\n",
      " [0.3327872]]\n",
      "x(t+8)=\n",
      "[[0.4765524 ]\n",
      " [0.19033272]\n",
      " [0.33311488]]\n",
      "x(t+9)=\n",
      "[[0.47634274]\n",
      " [0.1904113 ]\n",
      " [0.33324595]]\n",
      "x(t+10)=\n",
      "[[0.47625363]\n",
      " [0.19044799]\n",
      " [0.33329838]]\n",
      "x(t+11)=\n",
      "[[0.47621641]\n",
      " [0.19046423]\n",
      " [0.33331935]]\n",
      "x(t+12)=\n",
      "[[0.47620105]\n",
      " [0.19047121]\n",
      " [0.33332774]]\n",
      "x(t+13)=\n",
      "[[0.47619477]\n",
      " [0.19047414]\n",
      " [0.3333311 ]]\n",
      "x(t+14)=\n",
      "[[0.47619221]\n",
      " [0.19047535]\n",
      " [0.33333244]]\n",
      "x(t+15)=\n",
      "[[0.47619118]\n",
      " [0.19047585]\n",
      " [0.33333298]]\n",
      "x(t+16)=\n",
      "[[0.47619076]\n",
      " [0.19047605]\n",
      " [0.33333319]]\n",
      "x(t+17)=\n",
      "[[0.47619059]\n",
      " [0.19047613]\n",
      " [0.33333328]]\n",
      "x(t+18)=\n",
      "[[0.47619052]\n",
      " [0.19047617]\n",
      " [0.33333331]]\n",
      "x(t+19)=\n",
      "[[0.47619049]\n",
      " [0.19047618]\n",
      " [0.33333332]]\n",
      "x(t+20)=\n",
      "[[0.47619048]\n",
      " [0.19047619]\n",
      " [0.33333333]]\n",
      "x(t+21)=\n",
      "[[0.47619048]\n",
      " [0.19047619]\n",
      " [0.33333333]]\n",
      "x(t+22)=\n",
      "[[0.47619048]\n",
      " [0.19047619]\n",
      " [0.33333333]]\n",
      "x(t+23)=\n",
      "[[0.47619048]\n",
      " [0.19047619]\n",
      " [0.33333333]]\n",
      "x(t+24)=\n",
      "[[0.47619048]\n",
      " [0.19047619]\n",
      " [0.33333333]]\n",
      "x(t+25)=\n",
      "[[0.47619048]\n",
      " [0.19047619]\n",
      " [0.33333333]]\n",
      "x(t+26)=\n",
      "[[0.47619048]\n",
      " [0.19047619]\n",
      " [0.33333333]]\n",
      "x(t+27)=\n",
      "[[0.47619048]\n",
      " [0.19047619]\n",
      " [0.33333333]]\n",
      "x(t+28)=\n",
      "[[0.47619048]\n",
      " [0.19047619]\n",
      " [0.33333333]]\n",
      "x(t+29)=\n",
      "[[0.47619048]\n",
      " [0.19047619]\n",
      " [0.33333333]]\n",
      "x(t+30)=\n",
      "[[0.47619048]\n",
      " [0.19047619]\n",
      " [0.33333333]]\n",
      "x(t+31)=\n",
      "[[0.47619048]\n",
      " [0.19047619]\n",
      " [0.33333333]]\n",
      "x(t+32)=\n",
      "[[0.47619048]\n",
      " [0.19047619]\n",
      " [0.33333333]]\n",
      "x(t+33)=\n",
      "[[0.47619048]\n",
      " [0.19047619]\n",
      " [0.33333333]]\n",
      "x(t+34)=\n",
      "[[0.47619048]\n",
      " [0.19047619]\n",
      " [0.33333333]]\n",
      "x(t+35)=\n",
      "[[0.47619048]\n",
      " [0.19047619]\n",
      " [0.33333333]]\n",
      "x(t+36)=\n",
      "[[0.47619048]\n",
      " [0.19047619]\n",
      " [0.33333333]]\n",
      "x(t+37)=\n",
      "[[0.47619048]\n",
      " [0.19047619]\n",
      " [0.33333333]]\n",
      "x(t+38)=\n",
      "[[0.47619048]\n",
      " [0.19047619]\n",
      " [0.33333333]]\n",
      "x(t+39)=\n",
      "[[0.47619048]\n",
      " [0.19047619]\n",
      " [0.33333333]]\n",
      "x(t+40)=\n",
      "[[0.47619048]\n",
      " [0.19047619]\n",
      " [0.33333333]]\n",
      "x(t+41)=\n",
      "[[0.47619048]\n",
      " [0.19047619]\n",
      " [0.33333333]]\n",
      "x(t+42)=\n",
      "[[0.47619048]\n",
      " [0.19047619]\n",
      " [0.33333333]]\n",
      "x(t+43)=\n",
      "[[0.47619048]\n",
      " [0.19047619]\n",
      " [0.33333333]]\n",
      "x(t+44)=\n",
      "[[0.47619048]\n",
      " [0.19047619]\n",
      " [0.33333333]]\n",
      "x(t+45)=\n",
      "[[0.47619048]\n",
      " [0.19047619]\n",
      " [0.33333333]]\n",
      "x(t+46)=\n",
      "[[0.47619048]\n",
      " [0.19047619]\n",
      " [0.33333333]]\n",
      "x(t+47)=\n",
      "[[0.47619048]\n",
      " [0.19047619]\n",
      " [0.33333333]]\n",
      "x(t+48)=\n",
      "[[0.47619048]\n",
      " [0.19047619]\n",
      " [0.33333333]]\n",
      "[1.  0.4 0.3]\n",
      "[[-7.78498944e-01 -8.16496581e-01  7.07106781e-01]\n",
      " [-3.11399578e-01  4.08248290e-01 -7.07106781e-01]\n",
      " [-5.44949261e-01  4.08248290e-01  3.82763595e-16]]\n"
     ]
    }
   ],
   "source": [
    "# comienza por definir la matriz de probabilidad T\n",
    "T = np.matrix([[0.7,0.4,0.2],[0.1,0.4,0.2],[0.2,0.2,0.6]])\n",
    "\n",
    "print(T)\n",
    "\n",
    "# define un estado inicial, por ejemplo que el agente se encuentra en b\n",
    "# x = \n",
    "x = np.matrix([[0],[1],[0]])\n",
    "print('x =\\n'+str(x))\n",
    "x_1 = np.matmul(T,x)\n",
    "print('x(t+1)=\\n'+str(x_1))\n",
    "x_2 = np.matmul(T,x_1)\n",
    "print('x(t+2)=\\n'+str(x_2))\n",
    "# ¿que pasa al iterar 50 veces la ecuación?\n",
    "#calcula_dist(T,x,50)\n",
    "for i in range(49):\n",
    "    calcula_dist(T,x,i)\n",
    "# Calcula eigenvectores\n",
    "l,v = np.linalg.eig(T)\n",
    "print(l)\n",
    "print(v)\n",
    "\n",
    "# Identifica la columna correspondiente para el eigenvalor 1\n",
    "# recuerda que en Python los índices comienzan en 0\n",
    "columna  = 0\n",
    "\n",
    "#normaliza para obtener la distribución\n",
    "x_s = v[:,columna] / sum(v[:,columna])\n",
    "\n",
    "\n",
    "#compara tus resultados ¿es la mísma distribución?"
   ]
  },
  {
   "cell_type": "code",
   "execution_count": 68,
   "metadata": {
    "scrolled": true
   },
   "outputs": [
    {
     "name": "stdout",
     "output_type": "stream",
     "text": [
      "[[0.47619048]\n",
      " [0.19047619]\n",
      " [0.33333333]]\n"
     ]
    }
   ],
   "source": [
    "#Descomenta y ejecuta la siguiente linea. Copia el resultado en un archivo para someter tu tarea.\n",
    "print(x_s)"
   ]
  },
  {
   "cell_type": "markdown",
   "metadata": {},
   "source": []
  },
  {
   "cell_type": "code",
   "execution_count": null,
   "metadata": {},
   "outputs": [],
   "source": []
  }
 ],
 "metadata": {
  "kernelspec": {
   "display_name": "Python 3",
   "language": "python",
   "name": "python3"
  },
  "language_info": {
   "codemirror_mode": {
    "name": "ipython",
    "version": 3
   },
   "file_extension": ".py",
   "mimetype": "text/x-python",
   "name": "python",
   "nbconvert_exporter": "python",
   "pygments_lexer": "ipython3",
   "version": "3.8.3"
  }
 },
 "nbformat": 4,
 "nbformat_minor": 4
}
