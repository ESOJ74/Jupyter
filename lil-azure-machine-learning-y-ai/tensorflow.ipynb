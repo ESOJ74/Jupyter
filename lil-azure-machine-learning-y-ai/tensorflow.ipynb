{
  "nbformat": 4,
  "nbformat_minor": 0,
  "metadata": {
    "colab": {
      "name": "tensorflow.ipynb",
      "provenance": [],
      "collapsed_sections": [],
      "authorship_tag": "ABX9TyMC940F16KzxRfd+COKH41H",
      "include_colab_link": true
    },
    "kernelspec": {
      "name": "python3",
      "display_name": "Python 3"
    }
  },
  "cells": [
    {
      "cell_type": "markdown",
      "metadata": {
        "id": "view-in-github",
        "colab_type": "text"
      },
      "source": [
        "<a href=\"https://colab.research.google.com/github/ESOJ74/lil-azure-machine-learning-y-ai/blob/master/tensorflow.ipynb\" target=\"_parent\"><img src=\"https://colab.research.google.com/assets/colab-badge.svg\" alt=\"Open In Colab\"/></a>"
      ]
    },
    {
      "cell_type": "code",
      "metadata": {
        "id": "nLIm0NaqdUKv",
        "colab_type": "code",
        "colab": {}
      },
      "source": [
        "import tensorflow as tf"
      ],
      "execution_count": null,
      "outputs": []
    },
    {
      "cell_type": "markdown",
      "metadata": {
        "id": "sQ01ZvSuy3fh",
        "colab_type": "text"
      },
      "source": [
        "Grafo"
      ]
    },
    {
      "cell_type": "code",
      "metadata": {
        "id": "PCse_FdejdeO",
        "colab_type": "code",
        "colab": {
          "base_uri": "https://localhost:8080/",
          "height": 34
        },
        "outputId": "c6d6c0b8-4ea4-4c3d-eeb5-0e894db76c76"
      },
      "source": [
        "x = tf.constant([3, 5, 7])\n",
        "y = tf.constant([1, 2, 3])\n",
        "z = tf.add(x, y)\n",
        "print (t)"
      ],
      "execution_count": null,
      "outputs": [
        {
          "output_type": "stream",
          "text": [
            "Tensor(\"Add_2:0\", shape=(3,), dtype=int32)\n"
          ],
          "name": "stdout"
        }
      ]
    },
    {
      "cell_type": "markdown",
      "metadata": {
        "id": "U57wsQWxy9S_",
        "colab_type": "text"
      },
      "source": [
        "Ejecucion de session() de forma perezosa"
      ]
    },
    {
      "cell_type": "code",
      "metadata": {
        "id": "Rf7Q3VjyvcBq",
        "colab_type": "code",
        "colab": {
          "base_uri": "https://localhost:8080/",
          "height": 34
        },
        "outputId": "641fbc82-102f-44c2-ede4-c7bace2cc34a"
      },
      "source": [
        "tf.compat.v1.disable_eager_execution()\n",
        "# Construct a `Session` to execute the graph.\n",
        "with tf.compat.v1.Session() as sess:\n",
        "# Execute the graph and store the value that `e` represents in `result`.\n",
        "  result = sess.run(z)\n",
        "  print(result)"
      ],
      "execution_count": null,
      "outputs": [
        {
          "output_type": "stream",
          "text": [
            "[ 4  7 10]\n"
          ],
          "name": "stdout"
        }
      ]
    },
    {
      "cell_type": "markdown",
      "metadata": {
        "id": "dhlBQAwGzNOt",
        "colab_type": "text"
      },
      "source": [
        "Ejecucion de session() de forma imperativa"
      ]
    },
    {
      "cell_type": "code",
      "metadata": {
        "id": "kWOjpK2-juvy",
        "colab_type": "code",
        "colab": {
          "base_uri": "https://localhost:8080/",
          "height": 34
        },
        "outputId": "75b9d175-9bff-49f6-9dad-d341f5834b07"
      },
      "source": [
        "with tf.compat.v1.Session() as sess:\n",
        "  x = tf.constant([3, 5, 7])\n",
        "  y = tf.constant([1, 2, 3])            #el grafo debe ir en la sesion\n",
        "  z = tf.add(x, y)\n",
        "  print (sess.run(z))\n"
      ],
      "execution_count": null,
      "outputs": [
        {
          "output_type": "stream",
          "text": [
            "[ 4  7 10]\n"
          ],
          "name": "stdout"
        }
      ]
    },
    {
      "cell_type": "markdown",
      "metadata": {
        "id": "faouf31l4l_S",
        "colab_type": "text"
      },
      "source": [
        "Es posible evaluar una lista de tensors"
      ]
    },
    {
      "cell_type": "code",
      "metadata": {
        "id": "u3aBHvKu-hte",
        "colab_type": "code",
        "colab": {
          "base_uri": "https://localhost:8080/",
          "height": 51
        },
        "outputId": "c76d1474-7b42-4816-dc85-3c817e24091d"
      },
      "source": [
        "#grafo\n",
        "x = tf.constant([3, 5, 7])\n",
        "y = tf.constant([1, 2, 3])           \n",
        "z1 = tf.add(x, y)             #tambien valdrá z1= x + y simplemente\n",
        "z2 = x * y\n",
        "z3 = z2 - z1\n",
        "\n",
        "tf.compat.v1.disable_eager_execution()\n",
        "with tf.compat.v1.Session() as sess:\n",
        "    a1, a3 = sess.run([z1,z3])\n",
        "    print (a1)\n",
        "    print (a3)"
      ],
      "execution_count": null,
      "outputs": [
        {
          "output_type": "stream",
          "text": [
            "[ 4  7 10]\n",
            "[-1  3 11]\n"
          ],
          "name": "stdout"
        }
      ]
    },
    {
      "cell_type": "markdown",
      "metadata": {
        "id": "W-mL6rBf-1Q1",
        "colab_type": "text"
      },
      "source": [
        "Escribir un grafo"
      ]
    },
    {
      "cell_type": "code",
      "metadata": {
        "id": "jPXB0vw--_KX",
        "colab_type": "code",
        "colab": {}
      },
      "source": [
        "import tensorflow.compat.v1 as tf\n",
        "#import tensorflow.compat.v1 as tf\n",
        "#tf.disable_v2_behavior()\n",
        "#grafo\n",
        "x = tf.constant([3, 5, 7], name=\"x\")\n",
        "y = tf.constant([1, 2, 3], name=\"y\")           \n",
        "z1 = tf.add(x, y, name=\"z1\")             #tambien valdrá z1= x + y simplemente\n",
        "z2 = x * y\n",
        "z3 = z2 - z1\n",
        "\n",
        "tf.disable_eager_execution()\n",
        "with tf.Session() as sess:\n",
        "  with tf.summary.FileWriter('sumaries',sess.graph) as writer:\n",
        "    a1,a3 = sess.run([z1,z3])"
      ],
      "execution_count": null,
      "outputs": []
    },
    {
      "cell_type": "code",
      "metadata": {
        "id": "MtMFJUThCBib",
        "colab_type": "code",
        "colab": {
          "base_uri": "https://localhost:8080/",
          "height": 136
        },
        "outputId": "2417c756-863b-4421-d528-cf2236463eb0"
      },
      "source": [
        "!ls sumaries"
      ],
      "execution_count": null,
      "outputs": [
        {
          "output_type": "stream",
          "text": [
            "events.out.tfevents.1595765144.64bb97340128\n",
            "events.out.tfevents.1595765249.64bb97340128\n",
            "events.out.tfevents.1595765285.64bb97340128\n",
            "events.out.tfevents.1595765343.64bb97340128\n",
            "events.out.tfevents.1595765348.64bb97340128\n",
            "events.out.tfevents.1595765416.64bb97340128\n",
            "events.out.tfevents.1595765419.64bb97340128\n"
          ],
          "name": "stdout"
        }
      ]
    },
    {
      "cell_type": "markdown",
      "metadata": {
        "id": "zVeFngmUHbfk",
        "colab_type": "text"
      },
      "source": [
        "extraer tensores"
      ]
    },
    {
      "cell_type": "code",
      "metadata": {
        "id": "TadENrc8Hdkw",
        "colab_type": "code",
        "colab": {
          "base_uri": "https://localhost:8080/",
          "height": 34
        },
        "outputId": "ea449e1c-c1b9-4ae8-d97a-379f52f504ff"
      },
      "source": [
        "import tensorflow.compat.v1 as tf\n",
        "\n",
        "x = tf.constant([[3, 5, 7],\n",
        "                [4, 6, 8]])\n",
        "y = x[:, 1]\n",
        "tf.disable_eager_execution()\n",
        "with tf.Session() as sess:\n",
        "  print (y.eval())\n",
        "\n"
      ],
      "execution_count": null,
      "outputs": [
        {
          "output_type": "stream",
          "text": [
            "[5 6]\n"
          ],
          "name": "stdout"
        }
      ]
    },
    {
      "cell_type": "code",
      "metadata": {
        "id": "k-w8ZljOIQQb",
        "colab_type": "code",
        "colab": {
          "base_uri": "https://localhost:8080/",
          "height": 51
        },
        "outputId": "e4f16c91-d616-40b9-a58c-cd1e725ba186"
      },
      "source": [
        "y=x[1,:]\n",
        "with tf.Session() as sess:\n",
        "  print (y.eval())\n",
        "\n",
        "y=x[1,0:2]\n",
        "with tf.Session() as sess:\n",
        "  print (y.eval())"
      ],
      "execution_count": null,
      "outputs": [
        {
          "output_type": "stream",
          "text": [
            "[4 6 8]\n",
            "[4 6]\n"
          ],
          "name": "stdout"
        }
      ]
    },
    {
      "cell_type": "markdown",
      "metadata": {
        "id": "fMe8w9jSIj1d",
        "colab_type": "text"
      },
      "source": [
        "reshaped"
      ]
    },
    {
      "cell_type": "code",
      "metadata": {
        "id": "GYHu0cvYIe4N",
        "colab_type": "code",
        "colab": {
          "base_uri": "https://localhost:8080/",
          "height": 85
        },
        "outputId": "78bf8b6b-62e1-4ee5-cd1a-d27f5e9c7366"
      },
      "source": [
        "import tensorflow.compat.v1 as tf\n",
        "\n",
        "x = tf.constant([[3, 5, 7],\n",
        "                [4, 6, 8]])\n",
        "y = tf.reshape(x,[3,2])\n",
        "tf.disable_eager_execution()\n",
        "with tf.Session() as sess:\n",
        "   print (\"solucion 1  {} \".format(y.eval()))\n",
        "\n",
        "y = tf.reshape(x,[3,2])[1, :]\n",
        "tf.disable_eager_execution()\n",
        "with tf.Session() as sess:\n",
        "  print (\"solucion 2   \" + str(y.eval()))"
      ],
      "execution_count": null,
      "outputs": [
        {
          "output_type": "stream",
          "text": [
            "solucion 1  [[3 5]\n",
            " [7 4]\n",
            " [6 8]] \n",
            "solucion 2   [7 4]\n"
          ],
          "name": "stdout"
        }
      ]
    },
    {
      "cell_type": "code",
      "metadata": {
        "id": "xOjG6-pwI6Mw",
        "colab_type": "code",
        "colab": {}
      },
      "source": [
        ""
      ],
      "execution_count": null,
      "outputs": []
    }
  ]
}